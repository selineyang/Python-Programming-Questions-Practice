{
 "cells": [
  {
   "cell_type": "markdown",
   "metadata": {},
   "source": [
    "# Python Interview Questions"
   ]
  },
  {
   "cell_type": "code",
   "execution_count": 5,
   "metadata": {},
   "outputs": [
    {
     "name": "stdout",
     "output_type": "stream",
     "text": [
      "[10]\n"
     ]
    }
   ],
   "source": [
    "# what is the output of the following python code \n",
    "def extendList(val, list=[]):\n",
    "    list.append(val)\n",
    "    return list\n",
    "\n",
    "list1=extendList(10)\n",
    "print(list1)\n",
    "list2=extendList(123, [])\n",
    "list3=extendList('a')"
   ]
  },
  {
   "cell_type": "code",
   "execution_count": 4,
   "metadata": {},
   "outputs": [
    {
     "name": "stdout",
     "output_type": "stream",
     "text": [
      "[10, 'a']\n",
      "[123]\n",
      "[10, 'a']\n"
     ]
    }
   ],
   "source": [
    "print(list1)\n",
    "print(list2)\n",
    "print(list3)"
   ]
  },
  {
   "cell_type": "code",
   "execution_count": 6,
   "metadata": {},
   "outputs": [
    {
     "name": "stdout",
     "output_type": "stream",
     "text": [
      "[10]\n",
      "[123]\n",
      "['a']\n"
     ]
    }
   ],
   "source": [
    "def extendList(val, list=None):\n",
    "    if list is None:\n",
    "        list=[]\n",
    "    list.append(val)\n",
    "    return list\n",
    "\n",
    "list1=extendList(10)\n",
    "list2=extendList(123, [])\n",
    "list3=extendList('a')\n",
    "\n",
    "print(list1)\n",
    "print(list2)\n",
    "print(list3)"
   ]
  },
  {
   "cell_type": "code",
   "execution_count": 7,
   "metadata": {},
   "outputs": [
    {
     "name": "stdout",
     "output_type": "stream",
     "text": [
      "h\n",
      "pass statement is execute......\n",
      "i\n",
      " \n",
      "s\n",
      "e\n",
      "t\n",
      "h\n",
      "u\n",
      "r\n",
      "pass statement is execute......\n",
      "m\n",
      "pass statement is execute......\n",
      "n\n"
     ]
    }
   ],
   "source": [
    "# What is the state that can be used in python if the program requires\n",
    "#no action but requires it syntactically?\n",
    "letter=\"hai sethuraman\"\n",
    "for i in letter:\n",
    "    if i=='a':\n",
    "        pass\n",
    "        print('pass statement is execute......')\n",
    "    else:\n",
    "        print(i)"
   ]
  },
  {
   "cell_type": "code",
   "execution_count": null,
   "metadata": {},
   "outputs": [],
   "source": [
    "# what's the process to get the home directory using \n",
    "#\"~\"\n"
   ]
  }
 ],
 "metadata": {
  "kernelspec": {
   "display_name": "Python 3 (ipykernel)",
   "language": "python",
   "name": "python3"
  },
  "language_info": {
   "codemirror_mode": {
    "name": "ipython",
    "version": 3
   },
   "file_extension": ".py",
   "mimetype": "text/x-python",
   "name": "python",
   "nbconvert_exporter": "python",
   "pygments_lexer": "ipython3",
   "version": "3.8.2"
  }
 },
 "nbformat": 4,
 "nbformat_minor": 4
}
