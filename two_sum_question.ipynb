{
 "cells": [
  {
   "cell_type": "markdown",
   "id": "9e8e881f-aca6-4050-9c69-06bba7abee55",
   "metadata": {},
   "source": [
    "# Two Sum Problem "
   ]
  },
  {
   "cell_type": "code",
   "execution_count": 8,
   "id": "902584ce-e3fc-4046-9711-b8db16c14a38",
   "metadata": {
    "tags": []
   },
   "outputs": [],
   "source": [
    "#solution that save memory and the fastest\n",
    "#return the index of the two numbers\n",
    "def two_sum(nums, target):\n",
    "    d = {}\n",
    "    for i, value in enumerate(nums):\n",
    "        x= target- value\n",
    "        if x in d:\n",
    "            return [d[x],i]\n",
    "        d[value]=i\n",
    "        print(d)"
   ]
  },
  {
   "cell_type": "code",
   "execution_count": 9,
   "id": "1b746bc4-0e79-4fb1-9aa6-ac9c1e842964",
   "metadata": {
    "tags": []
   },
   "outputs": [
    {
     "name": "stdout",
     "output_type": "stream",
     "text": [
      "{1: 0}\n",
      "{1: 0, 3: 1}\n",
      "{1: 0, 3: 1, 4: 2}\n",
      "[0, 3]\n"
     ]
    }
   ],
   "source": [
    "print(two_sum([1,3,4,5,8,2,3],6))"
   ]
  },
  {
   "cell_type": "code",
   "execution_count": null,
   "id": "762452fa-a2eb-4371-a831-831179b10f50",
   "metadata": {},
   "outputs": [],
   "source": []
  }
 ],
 "metadata": {
  "kernelspec": {
   "display_name": "Python 3 (ipykernel)",
   "language": "python",
   "name": "python3"
  },
  "language_info": {
   "codemirror_mode": {
    "name": "ipython",
    "version": 3
   },
   "file_extension": ".py",
   "mimetype": "text/x-python",
   "name": "python",
   "nbconvert_exporter": "python",
   "pygments_lexer": "ipython3",
   "version": "3.8.2"
  }
 },
 "nbformat": 4,
 "nbformat_minor": 5
}
