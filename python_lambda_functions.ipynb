{
 "cells": [
  {
   "cell_type": "markdown",
   "id": "29c9461b-bb9f-4c1f-bd9c-644b671a4526",
   "metadata": {},
   "source": [
    "# Different functions in Python (review)\n",
    "- map()\n",
    "- filter() \n",
    "- Lambda functions\n",
    "- enumerate()"
   ]
  },
  {
   "cell_type": "markdown",
   "id": "de6b14bd-ef1e-4b6e-91d0-c6bc5ca4ec68",
   "metadata": {},
   "source": [
    "### map()"
   ]
  },
  {
   "cell_type": "code",
   "execution_count": 4,
   "id": "f42e9286-8f34-4abe-ba68-98084fca08b7",
   "metadata": {
    "tags": []
   },
   "outputs": [
    {
     "name": "stdout",
     "output_type": "stream",
     "text": [
      "[2, 4, 6, 8]\n"
     ]
    }
   ],
   "source": [
    "#map() return a map object after applying the given function\n",
    "#to each item of a given iterable (list, tuple, etc)\n",
    "\n",
    "#return double of n \n",
    "def addition(n):\n",
    "    return n+n\n",
    "numbers=(1,2,3,4)\n",
    "result = map(addition, numbers)\n",
    "print(list(result))"
   ]
  },
  {
   "cell_type": "code",
   "execution_count": 7,
   "id": "398923ed-af8f-49af-bd22-f576e3b770e3",
   "metadata": {
    "tags": []
   },
   "outputs": [
    {
     "name": "stdout",
     "output_type": "stream",
     "text": [
      "[2, 4, 6, 8]\n"
     ]
    }
   ],
   "source": [
    "#using map and lambda \n",
    "results2 = map(lambda x: x+x, numbers)\n",
    "print(list(results2))"
   ]
  },
  {
   "cell_type": "code",
   "execution_count": 8,
   "id": "251559de-e35e-420c-96e1-094b93f16ab8",
   "metadata": {
    "tags": []
   },
   "outputs": [
    {
     "name": "stdout",
     "output_type": "stream",
     "text": [
      "[5, 7, 9]\n"
     ]
    }
   ],
   "source": [
    "#add two list using map an lambda\n",
    "numbers1=[1,2,3]\n",
    "numbers2=[4,5,6]\n",
    "result = map(lambda x,y: x+y, numbers1, numbers2)\n",
    "print(list(result))"
   ]
  },
  {
   "cell_type": "code",
   "execution_count": 10,
   "id": "984d62a0-5b69-498b-893b-e2733c0e0c84",
   "metadata": {
    "tags": []
   },
   "outputs": [
    {
     "name": "stdout",
     "output_type": "stream",
     "text": [
      "[['c', 'a', 't'], ['b', 'a', 't'], ['m', 'a', 't'], ['s', 'a', 't']]\n"
     ]
    }
   ],
   "source": [
    "#use map to listify the list of strings \n",
    "l=['cat', 'bat', 'mat', 'sat']\n",
    "new_l = map(list, l)\n",
    "print(list(new_l))"
   ]
  },
  {
   "cell_type": "code",
   "execution_count": 17,
   "id": "a4feb056-54d7-4f58-a681-afebf0ccfa72",
   "metadata": {
    "tags": []
   },
   "outputs": [
    {
     "name": "stdout",
     "output_type": "stream",
     "text": [
      "[1, 4, 3, 8, 5, 12, 7]\n"
     ]
    }
   ],
   "source": [
    "#define a function that double even numbers and leave odd numbers as it \n",
    "def double_even(num):\n",
    "    if num%2==0:\n",
    "        return num*2\n",
    "    else:\n",
    "        return num\n",
    "numbers = [1,2,3,4,5,6,7]\n",
    "result = list(map(double_even, numbers))\n",
    "print(result)"
   ]
  },
  {
   "cell_type": "markdown",
   "id": "c21b3000-8bd6-42e0-86e3-db7009fd5e99",
   "metadata": {},
   "source": [
    "### filter()\n",
    "- filter(function, sequence)\n",
    "- filter the given sequence with the help of a function that tests each element in the sequence to be true or not "
   ]
  },
  {
   "cell_type": "code",
   "execution_count": 20,
   "id": "9d3a1f44-ea93-409c-90ea-7d0eecdc665e",
   "metadata": {
    "tags": []
   },
   "outputs": [
    {
     "name": "stdout",
     "output_type": "stream",
     "text": [
      "The filtereded letters are:\n",
      "e\n",
      "e\n"
     ]
    }
   ],
   "source": [
    "#function that filter vowels\n",
    "def vowel(variable):\n",
    "    letters = ['a', 'e', 'i', 'o', 'u']\n",
    "    if (variable in letters):\n",
    "        return True\n",
    "    else:\n",
    "        return False\n",
    "    \n",
    "sequence = ['g', 'e', 'e', 'j', 'k', 's', 'p', 'r']\n",
    "filtered = filter(vowel, sequence)\n",
    "print('The filtereded letters are:')\n",
    "for s in filtered:\n",
    "    print(s)"
   ]
  },
  {
   "cell_type": "code",
   "execution_count": 23,
   "id": "df0dbb3c-6872-4cf1-9f81-31bab64e0097",
   "metadata": {
    "tags": []
   },
   "outputs": [
    {
     "name": "stdout",
     "output_type": "stream",
     "text": [
      "[1, 3, 5, 11]\n"
     ]
    }
   ],
   "source": [
    "#find odd number and even number using filter and lambda function \n",
    "seq = [0,1,2,3,5,8,11]\n",
    "\n",
    "#find odd number\n",
    "result = filter(lambda x: x%2!=0, seq)\n",
    "print(list(result))"
   ]
  },
  {
   "cell_type": "code",
   "execution_count": 24,
   "id": "c425ecd2-8bdf-44d2-a805-343aaf796b51",
   "metadata": {
    "tags": []
   },
   "outputs": [
    {
     "name": "stdout",
     "output_type": "stream",
     "text": [
      "[0, 2, 8]\n"
     ]
    }
   ],
   "source": [
    "#find even number\n",
    "result = filter(lambda x: x%2==0, seq)\n",
    "print(list(result))"
   ]
  },
  {
   "cell_type": "markdown",
   "id": "f8aac830-662b-4f59-b462-75dccdce7ccb",
   "metadata": {},
   "source": [
    "### Lambda Function \n",
    "- anonymous function means function is without a name"
   ]
  },
  {
   "cell_type": "code",
   "execution_count": 25,
   "id": "7dbec43a-37e2-47f9-946c-8f26b949480b",
   "metadata": {
    "tags": []
   },
   "outputs": [
    {
     "name": "stdout",
     "output_type": "stream",
     "text": [
      "EREHT OLLEH\n"
     ]
    }
   ],
   "source": [
    "string1='hello there'\n",
    "rev_upper = lambda x: x.upper()[::-1]\n",
    "print(rev_upper(string1))"
   ]
  },
  {
   "cell_type": "code",
   "execution_count": 33,
   "id": "680e6b59-c954-4428-9c0c-f2e157e3be43",
   "metadata": {
    "tags": []
   },
   "outputs": [
    {
     "name": "stdout",
     "output_type": "stream",
     "text": [
      "10\n",
      "20\n",
      "30\n",
      "40\n"
     ]
    }
   ],
   "source": [
    "#use lambda function in a list\n",
    "is_even_list = [lambda arg=x: arg*10 for x in range(1,5)]\n",
    "for item in is_even_list:\n",
    "    print(item())"
   ]
  },
  {
   "cell_type": "code",
   "execution_count": 34,
   "id": "7ec78fa5-8358-423f-9b53-94316f614761",
   "metadata": {
    "tags": []
   },
   "outputs": [
    {
     "name": "stdout",
     "output_type": "stream",
     "text": [
      "6\n"
     ]
    }
   ],
   "source": [
    "#use max lambda function to find the maximum of two integers\n",
    "Max = lambda a,b : a if (a>b) else b\n",
    "print(Max(5,6))"
   ]
  },
  {
   "cell_type": "code",
   "execution_count": 37,
   "id": "4a30fe84-aff3-4bfa-a90c-c161b8fb1acb",
   "metadata": {
    "tags": []
   },
   "outputs": [
    {
     "name": "stdout",
     "output_type": "stream",
     "text": [
      "[65, 39, 221]\n"
     ]
    }
   ],
   "source": [
    "#give a list of numbers , find umbers that divisable by 13\n",
    "my_list = [12, 65, 54, 39, 102, 339, 221, 50, 70]\n",
    "result = list(filter(lambda x: (x%13==0),my_list))\n",
    "print(result)"
   ]
  },
  {
   "cell_type": "code",
   "execution_count": 40,
   "id": "8ee4ae4a-6f02-4b98-b955-136ae4c990f9",
   "metadata": {
    "tags": []
   },
   "outputs": [
    {
     "name": "stdout",
     "output_type": "stream",
     "text": [
      "['geeg', 'keek', 'aa']\n"
     ]
    }
   ],
   "source": [
    "#give a list of strings find all palindromes\n",
    "my_list = [\"geeks\", \"geeg\", \"keek\", \"practice\", \"aa\"]\n",
    "result = list(filter(lambda x: (x==''.join(reversed(x))),my_list))\n",
    "print(result)"
   ]
  },
  {
   "cell_type": "code",
   "execution_count": 43,
   "id": "fde84fb0-9f08-4b1a-ab93-4455fd31c390",
   "metadata": {
    "tags": []
   },
   "outputs": [
    {
     "name": "stdout",
     "output_type": "stream",
     "text": [
      "['geeg', 'keek', 'aa']\n"
     ]
    }
   ],
   "source": [
    "my_list = [\"geeks\", \"geeg\", \"keek\", \"practice\", \"aa\"]\n",
    "result = list(filter(lambda x: (x==x[::-1]),my_list))\n",
    "print(result)"
   ]
  },
  {
   "cell_type": "code",
   "execution_count": 45,
   "id": "0d73c0ca-c82f-4095-8086-1b9e1fba8542",
   "metadata": {
    "tags": []
   },
   "outputs": [
    {
     "data": {
      "text/plain": [
       "Counter({'a': 2, 'b': 1, 's': 1, 'd': 1})"
      ]
     },
     "execution_count": 45,
     "metadata": {},
     "output_type": "execute_result"
    }
   ],
   "source": [
    "# given a list of strings and a string str, print all anagrams of str\n",
    "#An anagram is a word or phrase formed by rearranging the letters of a\n",
    "#different word or phrase, typically using all the original letters exactly once\n",
    "from collections import Counter\n",
    "Counter('absda')"
   ]
  },
  {
   "cell_type": "code",
   "execution_count": 48,
   "id": "b4a62713-dab7-4d27-9983-fb278aa82fb1",
   "metadata": {
    "tags": []
   },
   "outputs": [
    {
     "name": "stdout",
     "output_type": "stream",
     "text": [
      "['geeks', 'keegs']\n"
     ]
    }
   ],
   "source": [
    "my_list = [\"geeks\", \"geeg\", \"keegs\", \"practice\", \"aa\"]\n",
    "string = \"eegsk\"\n",
    "\n",
    "result =list(filter(lambda x: Counter(x) == Counter(string), my_list))\n",
    "print(result)"
   ]
  },
  {
   "cell_type": "code",
   "execution_count": null,
   "id": "bd0d2af1-b385-4035-b192-43b73b634240",
   "metadata": {},
   "outputs": [],
   "source": []
  }
 ],
 "metadata": {
  "kernelspec": {
   "display_name": "Python 3 (ipykernel)",
   "language": "python",
   "name": "python3"
  },
  "language_info": {
   "codemirror_mode": {
    "name": "ipython",
    "version": 3
   },
   "file_extension": ".py",
   "mimetype": "text/x-python",
   "name": "python",
   "nbconvert_exporter": "python",
   "pygments_lexer": "ipython3",
   "version": "3.8.2"
  }
 },
 "nbformat": 4,
 "nbformat_minor": 5
}
