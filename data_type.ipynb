{
 "cells": [
  {
   "cell_type": "markdown",
   "id": "dbebe35b-59d3-4c85-a2bd-c528b304c721",
   "metadata": {},
   "source": [
    "## Data Types In Python (review)"
   ]
  },
  {
   "cell_type": "code",
   "execution_count": 8,
   "id": "07f8f4bd-81a8-4016-b4e5-f458e7107a8d",
   "metadata": {
    "tags": []
   },
   "outputs": [
    {
     "name": "stdout",
     "output_type": "stream",
     "text": [
      "[1, 'a', 'string', 3]\n"
     ]
    }
   ],
   "source": [
    "#list basics \n",
    "l = [1, 'a', 'string', 1+2]\n",
    "print(l)"
   ]
  },
  {
   "cell_type": "code",
   "execution_count": 9,
   "id": "7d4bf248-b167-4dce-b967-4180f37cd478",
   "metadata": {
    "tags": []
   },
   "outputs": [
    {
     "name": "stdout",
     "output_type": "stream",
     "text": [
      "[1, 'a', 'string', 3, 6]\n"
     ]
    }
   ],
   "source": [
    "#adding element in the list\n",
    "l.append(6)\n",
    "print(l)"
   ]
  },
  {
   "cell_type": "code",
   "execution_count": 10,
   "id": "9ab89485-77ca-4345-879b-c35d406b7862",
   "metadata": {
    "tags": []
   },
   "outputs": [
    {
     "name": "stdout",
     "output_type": "stream",
     "text": [
      "[1, 'a', 'string', 3]\n"
     ]
    }
   ],
   "source": [
    "l.pop()\n",
    "print(l)"
   ]
  },
  {
   "cell_type": "code",
   "execution_count": 11,
   "id": "1140512f-c9d1-490e-9628-fee2d12d5ad5",
   "metadata": {
    "tags": []
   },
   "outputs": [
    {
     "name": "stdout",
     "output_type": "stream",
     "text": [
      "(1, 'a', 'string', 3)\n"
     ]
    }
   ],
   "source": [
    "# tuples basics\n",
    "tup = (1, 'a', 'string', 1+2)\n",
    "print(tup)"
   ]
  },
  {
   "cell_type": "code",
   "execution_count": 12,
   "id": "47b3c972-0df7-49e8-b078-fd71f183d71a",
   "metadata": {
    "tags": []
   },
   "outputs": [
    {
     "name": "stdout",
     "output_type": "stream",
     "text": [
      "1\n",
      "2\n",
      "3\n",
      "4\n",
      "5\n",
      "6\n",
      "7\n",
      "8\n",
      "9\n"
     ]
    }
   ],
   "source": [
    "i=1\n",
    "while (i<10):\n",
    "    print(i)\n",
    "    i+=1"
   ]
  },
  {
   "cell_type": "code",
   "execution_count": 13,
   "id": "651cb3b4-41ba-4c5a-b9b6-629c81eb1559",
   "metadata": {
    "tags": []
   },
   "outputs": [
    {
     "name": "stdout",
     "output_type": "stream",
     "text": [
      "h\n",
      "e\n",
      "l\n",
      "l\n",
      "o\n",
      " \n",
      "w\n",
      "o\n",
      "r\n",
      "l\n",
      "d\n"
     ]
    }
   ],
   "source": [
    "s = 'hello world'\n",
    "for i in s:\n",
    "    print(i)"
   ]
  },
  {
   "cell_type": "markdown",
   "id": "21b99ed5-e9a3-4306-97aa-cd40eca2a0d5",
   "metadata": {},
   "source": [
    "### String"
   ]
  },
  {
   "cell_type": "code",
   "execution_count": 15,
   "id": "a7d50613-c2d0-41c2-a43c-bea1fbcee271",
   "metadata": {
    "tags": []
   },
   "outputs": [
    {
     "name": "stdout",
     "output_type": "stream",
     "text": [
      "hello i am here\n"
     ]
    }
   ],
   "source": [
    "string1 = '''hello i am here'''\n",
    "print(string1)"
   ]
  },
  {
   "cell_type": "code",
   "execution_count": 17,
   "id": "ecf87412-f0e9-4b6d-a8b0-cbcd8be07c7e",
   "metadata": {
    "tags": []
   },
   "outputs": [
    {
     "name": "stdout",
     "output_type": "stream",
     "text": [
      "hello \n",
      "            i\n",
      "            am \n",
      "            here\n"
     ]
    }
   ],
   "source": [
    "string2 = '''hello \n",
    "            i\n",
    "            am \n",
    "            here'''\n",
    "print(string2)"
   ]
  },
  {
   "cell_type": "code",
   "execution_count": 18,
   "id": "4042b90e-bed9-4aed-b3b9-e4d8527df973",
   "metadata": {
    "tags": []
   },
   "outputs": [
    {
     "name": "stdout",
     "output_type": "stream",
     "text": [
      "e\n"
     ]
    }
   ],
   "source": [
    "#accessing charactors in string\n",
    "print(string1[-1])"
   ]
  },
  {
   "cell_type": "code",
   "execution_count": 20,
   "id": "0cdcc22d-b33b-4813-9ab0-7c8cc204a0b6",
   "metadata": {
    "tags": []
   },
   "outputs": [
    {
     "name": "stdout",
     "output_type": "stream",
     "text": [
      "ereh ma i olleh\n"
     ]
    }
   ],
   "source": [
    "#reverse a string \n",
    "print(string1[::-1])"
   ]
  },
  {
   "cell_type": "code",
   "execution_count": 21,
   "id": "712dae49-03af-45f4-ad9f-0f7cd8067b9f",
   "metadata": {
    "tags": []
   },
   "outputs": [
    {
     "name": "stdout",
     "output_type": "stream",
     "text": [
      "ereh ma i olleh\n"
     ]
    }
   ],
   "source": [
    "#reversing using built in function \n",
    "string1=''.join(reversed(string1))\n",
    "print(string1)"
   ]
  },
  {
   "cell_type": "code",
   "execution_count": 23,
   "id": "575d7f30-c1f1-46ab-8b31-8240d98e4bf4",
   "metadata": {
    "tags": []
   },
   "outputs": [
    {
     "name": "stdout",
     "output_type": "stream",
     "text": [
      "h ma i ol\n"
     ]
    }
   ],
   "source": [
    "#slicing in string \n",
    "print(string1[3:12])"
   ]
  },
  {
   "cell_type": "code",
   "execution_count": 24,
   "id": "44e262d3-3839-4ca5-a308-6b84b97a2dc2",
   "metadata": {
    "tags": []
   },
   "outputs": [
    {
     "name": "stdout",
     "output_type": "stream",
     "text": [
      "h ma i oll\n"
     ]
    }
   ],
   "source": [
    "print(string1[3:-2])"
   ]
  },
  {
   "cell_type": "code",
   "execution_count": 25,
   "id": "bfae385f-7979-4ff3-afa1-e5e16db78701",
   "metadata": {
    "tags": []
   },
   "outputs": [
    {
     "name": "stdout",
     "output_type": "stream",
     "text": [
      "hello nice to meet you\n",
      "['h', 'e', 'l', 'l', 'o', ' ', 'n', 'i', 'c', 'e', ' ', 't', 'o', ' ', 'm', 'e', 'e', 't', ' ', 'y', 'o', 'u']\n",
      "hallo nice to meet you\n"
     ]
    }
   ],
   "source": [
    "#string are immutable \n",
    "#can change to list to update and change back to string after the update \n",
    "string3 ='hello nice to meet you'\n",
    "print(string3)\n",
    "#update hello to 'hallo'\n",
    "list1 = list(string3)\n",
    "print(list1)\n",
    "list1[1]='a'\n",
    "string2 = ''.join(list1)\n",
    "print(string2)"
   ]
  },
  {
   "cell_type": "code",
   "execution_count": 26,
   "id": "be69a06d-5de7-45ce-9777-ce87a0f2a65d",
   "metadata": {
    "tags": []
   },
   "outputs": [
    {
     "ename": "NameError",
     "evalue": "name 'string2' is not defined",
     "output_type": "error",
     "traceback": [
      "\u001b[0;31m---------------------------------------------------------------------------\u001b[0m",
      "\u001b[0;31mNameError\u001b[0m                                 Traceback (most recent call last)",
      "Cell \u001b[0;32mIn[26], line 3\u001b[0m\n\u001b[1;32m      1\u001b[0m \u001b[38;5;66;03m#deleting a string \u001b[39;00m\n\u001b[1;32m      2\u001b[0m \u001b[38;5;28;01mdel\u001b[39;00m(string2)\n\u001b[0;32m----> 3\u001b[0m \u001b[38;5;28mprint\u001b[39m(\u001b[43mstring2\u001b[49m)\n",
      "\u001b[0;31mNameError\u001b[0m: name 'string2' is not defined"
     ]
    }
   ],
   "source": [
    "#deleting a string \n",
    "del(string2)\n",
    "print(string2)"
   ]
  },
  {
   "cell_type": "code",
   "execution_count": 30,
   "id": "28069a59-1011-4003-a7fa-133d1669571d",
   "metadata": {
    "tags": []
   },
   "outputs": [
    {
     "name": "stdout",
     "output_type": "stream",
     "text": [
      "C:\\Python\\path\\\n"
     ]
    }
   ],
   "source": [
    "#backslashes\n",
    "string4 =\"C:\\\\Python\\\\path\\\\\"\n",
    "print(string4)"
   ]
  },
  {
   "cell_type": "code",
   "execution_count": 35,
   "id": "76a72dbb-54ca-4b69-a6b0-93b6967a6519",
   "metadata": {
    "tags": []
   },
   "outputs": [
    {
     "name": "stdout",
     "output_type": "stream",
     "text": [
      "Hi\tI am Elfo\n"
     ]
    }
   ],
   "source": [
    "#tab\n",
    "string5 = 'Hi\\tI am Elfo'\n",
    "print(string5)"
   ]
  },
  {
   "cell_type": "code",
   "execution_count": 36,
   "id": "67bfc8b3-d80d-4ea5-936e-db2f47ec986a",
   "metadata": {
    "tags": []
   },
   "outputs": [
    {
     "name": "stdout",
     "output_type": "stream",
     "text": [
      "Hi \n",
      "I am Elfo\n"
     ]
    }
   ],
   "source": [
    "#new line\n",
    "string6= 'Hi \\nI am Elfo'\n",
    "print(string6)"
   ]
  },
  {
   "cell_type": "code",
   "execution_count": 40,
   "id": "6cd7248c-3589-4d23-a808-42f9d31dcb4f",
   "metadata": {
    "tags": []
   },
   "outputs": [
    {
     "name": "stdout",
     "output_type": "stream",
     "text": [
      "binary representation of 16 is\n",
      "10000\n",
      "\n",
      "Exponent representation of 165.6272 is\n",
      "1.656272e+02\n",
      "\n",
      "1/3 is\n",
      "0.33\n"
     ]
    }
   ],
   "source": [
    "#formatting of a string \n",
    "s1 = '{0:b}'.format(16)\n",
    "print('binary representation of 16 is')\n",
    "print(s1)\n",
    "\n",
    "#formatting of float\n",
    "s2 ='{0:e}'.format(165.6272)\n",
    "print('\\nExponent representation of 165.6272 is')\n",
    "print(s2)\n",
    "\n",
    "#rounding off\n",
    "s3='{0:.2f}'.format(1/3)\n",
    "print('\\n1/3 is')\n",
    "print(s3)\n"
   ]
  },
  {
   "cell_type": "code",
   "execution_count": 46,
   "id": "e25f5894-d8f6-450d-b4bf-33b57b42c076",
   "metadata": {
    "tags": []
   },
   "outputs": [
    {
     "data": {
      "text/plain": [
       "'ereh ma i olleh'"
      ]
     },
     "execution_count": 46,
     "metadata": {},
     "output_type": "execute_result"
    }
   ],
   "source": [
    "string1"
   ]
  },
  {
   "cell_type": "code",
   "execution_count": 45,
   "id": "a982d583-af26-4523-9643-897921cc0df3",
   "metadata": {
    "tags": []
   },
   "outputs": [
    {
     "data": {
      "text/plain": [
       "False"
      ]
     },
     "execution_count": 45,
     "metadata": {},
     "output_type": "execute_result"
    }
   ],
   "source": [
    "string1.endswith('a')"
   ]
  },
  {
   "cell_type": "code",
   "execution_count": 47,
   "id": "0de253de-c5fa-43d4-89fa-d8d959c13d4c",
   "metadata": {
    "tags": []
   },
   "outputs": [
    {
     "data": {
      "text/plain": [
       "False"
      ]
     },
     "execution_count": 47,
     "metadata": {},
     "output_type": "execute_result"
    }
   ],
   "source": [
    "string1.isdigit()"
   ]
  },
  {
   "cell_type": "code",
   "execution_count": 49,
   "id": "c35c0da1-2803-4204-b94d-fe0282249c6d",
   "metadata": {
    "tags": []
   },
   "outputs": [
    {
     "data": {
      "text/plain": [
       "'irih ma i ollih'"
      ]
     },
     "execution_count": 49,
     "metadata": {},
     "output_type": "execute_result"
    }
   ],
   "source": [
    "string1.replace('e', 'i')"
   ]
  },
  {
   "cell_type": "code",
   "execution_count": 50,
   "id": "b6e8e7f7-62de-4fb6-a1e5-187bec80f664",
   "metadata": {
    "tags": []
   },
   "outputs": [
    {
     "data": {
      "text/plain": [
       "'ereh ma i olleh'"
      ]
     },
     "execution_count": 50,
     "metadata": {},
     "output_type": "execute_result"
    }
   ],
   "source": [
    "string1"
   ]
  },
  {
   "cell_type": "code",
   "execution_count": 57,
   "id": "70c11eb3-9626-4cc7-93a4-1c83f3c3ec94",
   "metadata": {
    "tags": []
   },
   "outputs": [
    {
     "data": {
      "text/plain": [
       "str"
      ]
     },
     "execution_count": 57,
     "metadata": {},
     "output_type": "execute_result"
    }
   ],
   "source": [
    "type(string1)"
   ]
  },
  {
   "cell_type": "code",
   "execution_count": 58,
   "id": "b0e2e7a6-7005-41c3-9c13-7908063e2993",
   "metadata": {
    "tags": []
   },
   "outputs": [
    {
     "name": "stdout",
     "output_type": "stream",
     "text": [
      "hello i am here\n",
      "hloia ee\n"
     ]
    }
   ],
   "source": [
    "#slicing\n",
    "print(string1[::-1])\n",
    "print(string1[::-2])"
   ]
  },
  {
   "cell_type": "markdown",
   "id": "573913fc-d364-45bf-97df-bd575ad62bde",
   "metadata": {},
   "source": [
    "### List"
   ]
  },
  {
   "cell_type": "code",
   "execution_count": 52,
   "id": "37c011f4-288c-42a5-b3cb-15dd5da58360",
   "metadata": {
    "tags": []
   },
   "outputs": [
    {
     "name": "stdout",
     "output_type": "stream",
     "text": [
      "[['hello', 'there'], ['my', 'name', 'is', 'Elfo']]\n"
     ]
    }
   ],
   "source": [
    "l1 = [['hello', 'there'], ['my', 'name', 'is', 'Elfo']]\n",
    "print(l1)"
   ]
  },
  {
   "cell_type": "code",
   "execution_count": 53,
   "id": "433d4122-60dd-41af-aa7e-b13ec1b8f230",
   "metadata": {
    "tags": []
   },
   "outputs": [
    {
     "name": "stdout",
     "output_type": "stream",
     "text": [
      "my\n"
     ]
    }
   ],
   "source": [
    "print(l1[1][0])"
   ]
  },
  {
   "cell_type": "code",
   "execution_count": 59,
   "id": "dd62d895-d162-46a7-9d47-e2fff5085e1f",
   "metadata": {
    "tags": []
   },
   "outputs": [
    {
     "data": {
      "text/plain": [
       "2"
      ]
     },
     "execution_count": 59,
     "metadata": {},
     "output_type": "execute_result"
    }
   ],
   "source": [
    "len(l1)"
   ]
  },
  {
   "cell_type": "code",
   "execution_count": 60,
   "id": "7180906d-4b3f-4fb3-9688-4f065a297424",
   "metadata": {
    "tags": []
   },
   "outputs": [
    {
     "name": "stdin",
     "output_type": "stream",
     "text": [
      "Enter elements: Hello my name is Seline\n"
     ]
    },
    {
     "name": "stdout",
     "output_type": "stream",
     "text": [
      "['Hello', 'my', 'name', 'is', 'Seline']\n"
     ]
    }
   ],
   "source": [
    "#Taking input of a python list \n",
    "string = input('Enter elements:')\n",
    "lst =string.split()\n",
    "print(lst)"
   ]
  },
  {
   "cell_type": "code",
   "execution_count": 61,
   "id": "abe5a125-2967-43fc-b97f-6ebfbb7fcb7d",
   "metadata": {
    "tags": []
   },
   "outputs": [
    {
     "name": "stdout",
     "output_type": "stream",
     "text": [
      "['Hello', 'my', 'name', 'is', 'Seline', 10]\n"
     ]
    }
   ],
   "source": [
    "#adding element\n",
    "lst.append(10)\n",
    "print(lst)"
   ]
  },
  {
   "cell_type": "code",
   "execution_count": 62,
   "id": "a1a2a9a4-4ebc-4ca9-827d-49ccd6a15fbe",
   "metadata": {
    "tags": []
   },
   "outputs": [
    {
     "name": "stdout",
     "output_type": "stream",
     "text": [
      "['Hello', 'my', 'name', 'aloha', 'is', 'Seline', 10]\n"
     ]
    }
   ],
   "source": [
    "lst.insert(3, 'aloha')\n",
    "print(lst)"
   ]
  },
  {
   "cell_type": "code",
   "execution_count": 63,
   "id": "5f037db4-e78e-4aa7-8b45-d6979e3a0902",
   "metadata": {
    "tags": []
   },
   "outputs": [],
   "source": [
    "#adding multiple elements \n",
    "lst.extend(['I', 'am', 'extending'])"
   ]
  },
  {
   "cell_type": "code",
   "execution_count": 64,
   "id": "8eedea75-4b26-40ad-a9e6-aa0dd7546949",
   "metadata": {
    "tags": []
   },
   "outputs": [
    {
     "name": "stdout",
     "output_type": "stream",
     "text": [
      "['Hello', 'my', 'name', 'aloha', 'is', 'Seline', 10, 'I', 'am', 'extending']\n"
     ]
    }
   ],
   "source": [
    "print(lst)"
   ]
  },
  {
   "cell_type": "code",
   "execution_count": 65,
   "id": "5ecd0f6e-f04f-46a1-93c8-b1a6a4e85155",
   "metadata": {
    "tags": []
   },
   "outputs": [
    {
     "name": "stdout",
     "output_type": "stream",
     "text": [
      "['extending', 'am', 'I', 10, 'Seline', 'is', 'aloha', 'name', 'my', 'Hello']\n"
     ]
    }
   ],
   "source": [
    "#reversing a list \n",
    "lst.reverse()\n",
    "print(lst)"
   ]
  },
  {
   "cell_type": "code",
   "execution_count": 66,
   "id": "afa2085f-3e6d-47f7-bcd1-97b138d5ead6",
   "metadata": {
    "tags": []
   },
   "outputs": [],
   "source": [
    "#remove element from the list\n",
    "lst.remove('aloha')"
   ]
  },
  {
   "cell_type": "code",
   "execution_count": 67,
   "id": "fb8912a3-8beb-45b3-8340-197f3ce3bbae",
   "metadata": {
    "tags": []
   },
   "outputs": [
    {
     "name": "stdout",
     "output_type": "stream",
     "text": [
      "['extending', 'am', 'I', 10, 'Seline', 'is', 'name', 'my', 'Hello']\n"
     ]
    }
   ],
   "source": [
    "print(lst)"
   ]
  },
  {
   "cell_type": "code",
   "execution_count": 68,
   "id": "e4b9e929-81b9-40d1-b8d4-11eeb9d665d4",
   "metadata": {
    "tags": []
   },
   "outputs": [
    {
     "name": "stdout",
     "output_type": "stream",
     "text": [
      "['extending', 'am', 'I', 10, 'Seline', 'is', 'name', 'my']\n"
     ]
    }
   ],
   "source": [
    "lst.pop()\n",
    "print(lst)"
   ]
  },
  {
   "cell_type": "code",
   "execution_count": 69,
   "id": "1d7036c4-3cd6-49bb-a378-83c77ba6679b",
   "metadata": {
    "tags": []
   },
   "outputs": [
    {
     "name": "stdout",
     "output_type": "stream",
     "text": [
      "['extending', 'am', 10, 'Seline', 'is', 'name', 'my']\n"
     ]
    }
   ],
   "source": [
    "lst.pop(2) # pop the element with index 2\n",
    "print(lst)"
   ]
  },
  {
   "cell_type": "code",
   "execution_count": 70,
   "id": "06f09984-6bd3-48fb-a691-984a6840973b",
   "metadata": {
    "tags": []
   },
   "outputs": [
    {
     "data": {
      "text/plain": [
       "5"
      ]
     },
     "execution_count": 70,
     "metadata": {},
     "output_type": "execute_result"
    }
   ],
   "source": [
    "lst.index('name')"
   ]
  },
  {
   "cell_type": "markdown",
   "id": "595498c2-c502-4a0a-9a95-c4d0e2513f76",
   "metadata": {},
   "source": [
    "### Tuples"
   ]
  },
  {
   "cell_type": "code",
   "execution_count": 71,
   "id": "76d23d56-867e-47f0-8bef-3365513346dc",
   "metadata": {
    "tags": []
   },
   "outputs": [
    {
     "name": "stdout",
     "output_type": "stream",
     "text": [
      "(1, 2, 4, 5, 6)\n"
     ]
    }
   ],
   "source": [
    "list1 = [1,2,4,5,6]\n",
    "print(tuple(list1))"
   ]
  },
  {
   "cell_type": "code",
   "execution_count": 72,
   "id": "6337cd4f-c9e1-4eb7-99ca-6e02f1dff3a8",
   "metadata": {
    "tags": []
   },
   "outputs": [
    {
     "name": "stdout",
     "output_type": "stream",
     "text": [
      "('h', 'e', 'l', 'l', 'o')\n"
     ]
    }
   ],
   "source": [
    "print(tuple('hello'))"
   ]
  },
  {
   "cell_type": "code",
   "execution_count": 74,
   "id": "8e1748d2-f391-4efa-b1df-ea2f3d513372",
   "metadata": {
    "tags": []
   },
   "outputs": [
    {
     "name": "stdout",
     "output_type": "stream",
     "text": [
      "((0, 1, 2, 3), ('python', 'good'))\n"
     ]
    }
   ],
   "source": [
    "#nested tuple\n",
    "tuple1 = (0, 1, 2, 3)\n",
    "tuple2 = ('python', 'good')\n",
    "tuple3 = (tuple1, tuple2)\n",
    "print(tuple3)"
   ]
  },
  {
   "cell_type": "code",
   "execution_count": 75,
   "id": "ba00712a-0571-4261-b6a8-895c1bf0cb92",
   "metadata": {
    "tags": []
   },
   "outputs": [
    {
     "name": "stdout",
     "output_type": "stream",
     "text": [
      "I\n",
      "love\n",
      "python\n"
     ]
    }
   ],
   "source": [
    "tuple1 = ('I', 'love', 'python')\n",
    "a,b,c = tuple1\n",
    "print(a)\n",
    "print(b)\n",
    "print(c)"
   ]
  },
  {
   "cell_type": "code",
   "execution_count": 77,
   "id": "4963d32f-18dd-4c0e-b75b-0d14b94d90b2",
   "metadata": {
    "tags": []
   },
   "outputs": [
    {
     "data": {
      "text/plain": [
       "'I'"
      ]
     },
     "execution_count": 77,
     "metadata": {},
     "output_type": "execute_result"
    }
   ],
   "source": [
    "tuple1[0]"
   ]
  },
  {
   "cell_type": "code",
   "execution_count": 78,
   "id": "67d43558-c688-4958-95b7-17adb7c46839",
   "metadata": {
    "tags": []
   },
   "outputs": [
    {
     "data": {
      "text/plain": [
       "('python', 'love', 'I')"
      ]
     },
     "execution_count": 78,
     "metadata": {},
     "output_type": "execute_result"
    }
   ],
   "source": [
    "tuple1[::-1]"
   ]
  },
  {
   "cell_type": "code",
   "execution_count": 79,
   "id": "bfb6193e-c0a0-4876-afcb-2591eaddffcb",
   "metadata": {
    "tags": []
   },
   "outputs": [
    {
     "data": {
      "text/plain": [
       "1"
      ]
     },
     "execution_count": 79,
     "metadata": {},
     "output_type": "execute_result"
    }
   ],
   "source": [
    "tuple1.count('python')"
   ]
  },
  {
   "cell_type": "code",
   "execution_count": 83,
   "id": "4ceeba59-d277-45fd-a668-234b696a9e8a",
   "metadata": {
    "tags": []
   },
   "outputs": [
    {
     "data": {
      "text/plain": [
       "'I'"
      ]
     },
     "execution_count": 83,
     "metadata": {},
     "output_type": "execute_result"
    }
   ],
   "source": [
    "min(tuple1)"
   ]
  },
  {
   "cell_type": "code",
   "execution_count": 87,
   "id": "0bb0f8aa-7e56-43aa-bd5c-746a32fc42b4",
   "metadata": {
    "tags": []
   },
   "outputs": [
    {
     "name": "stdout",
     "output_type": "stream",
     "text": [
      "(5, 4, 3, 2, 1)\n"
     ]
    }
   ],
   "source": [
    "tuple2=(5,4,3,2,1)\n",
    "print(tuple2)"
   ]
  },
  {
   "cell_type": "code",
   "execution_count": 85,
   "id": "2a36cb53-e762-47c1-bd01-fa36d23ea155",
   "metadata": {
    "tags": []
   },
   "outputs": [
    {
     "data": {
      "text/plain": [
       "['I', 'love', 'python']"
      ]
     },
     "execution_count": 85,
     "metadata": {},
     "output_type": "execute_result"
    }
   ],
   "source": [
    "sorted(tuple1)"
   ]
  },
  {
   "cell_type": "markdown",
   "id": "5da9bac6-3685-4f34-a3f0-219cef765037",
   "metadata": {
    "tags": []
   },
   "source": [
    "### Set\n",
    "- iterable, mutable, no duplication \n",
    "- optimized for checking a specific element contained in the set\n",
    "- elements are in order"
   ]
  },
  {
   "cell_type": "code",
   "execution_count": 88,
   "id": "0ba9190a-25b9-45ef-9fea-db29f47804e5",
   "metadata": {
    "tags": []
   },
   "outputs": [
    {
     "name": "stdout",
     "output_type": "stream",
     "text": [
      "{'l', 'o', 'e', 'h'}\n"
     ]
    }
   ],
   "source": [
    "set1 = set('hello')\n",
    "print(set1)"
   ]
  },
  {
   "cell_type": "code",
   "execution_count": 90,
   "id": "696be6b0-c769-487a-a42d-9f74472b2891",
   "metadata": {
    "tags": []
   },
   "outputs": [
    {
     "name": "stdout",
     "output_type": "stream",
     "text": [
      "{2, 3, 4, 5, 6, 10}\n"
     ]
    }
   ],
   "source": [
    "set2 =set([5,3,2,4,6,2,10])\n",
    "print(set2)"
   ]
  },
  {
   "cell_type": "code",
   "execution_count": 91,
   "id": "fd13ed66-a396-4853-8cf1-7bf647324e2f",
   "metadata": {
    "tags": []
   },
   "outputs": [
    {
     "name": "stdout",
     "output_type": "stream",
     "text": [
      "{2, 3, 4, 5, 6, 10, 11}\n"
     ]
    }
   ],
   "source": [
    "#adding an element\n",
    "set2.add(11)\n",
    "print(set2)"
   ]
  },
  {
   "cell_type": "code",
   "execution_count": 92,
   "id": "2e5c5d16-048f-4fa7-8fe5-faccf85c3483",
   "metadata": {
    "tags": []
   },
   "outputs": [
    {
     "name": "stdout",
     "output_type": "stream",
     "text": [
      "{1, 2, 3, 4, 5, 6, 10, 11}\n"
     ]
    }
   ],
   "source": [
    "for i in range(1,6):\n",
    "    set2.add(i)\n",
    "print(set2)"
   ]
  },
  {
   "cell_type": "code",
   "execution_count": 93,
   "id": "31c35ffb-07c8-4a5a-9534-cf5a185e53c3",
   "metadata": {
    "tags": []
   },
   "outputs": [
    {
     "name": "stdout",
     "output_type": "stream",
     "text": [
      "False\n"
     ]
    }
   ],
   "source": [
    "print('a' in set1)"
   ]
  },
  {
   "cell_type": "code",
   "execution_count": 94,
   "id": "18007fda-f95c-44eb-bff4-b15b5a5635e2",
   "metadata": {
    "tags": []
   },
   "outputs": [
    {
     "name": "stdout",
     "output_type": "stream",
     "text": [
      "{1, 3, 4, 5, 6, 10, 11}\n"
     ]
    }
   ],
   "source": [
    "#remove element from a set\n",
    "set2.remove(2)\n",
    "print(set2)"
   ]
  },
  {
   "cell_type": "code",
   "execution_count": 95,
   "id": "f7d01c1f-5697-4080-bfb4-1e2c7caad9b0",
   "metadata": {
    "tags": []
   },
   "outputs": [
    {
     "name": "stdout",
     "output_type": "stream",
     "text": [
      "{3, 4, 5, 6, 10, 11}\n"
     ]
    }
   ],
   "source": [
    "set2.pop() #pop the first element\n",
    "print(set2)"
   ]
  },
  {
   "cell_type": "code",
   "execution_count": 96,
   "id": "6567b0d8-d6de-4aa4-a02a-db9f9482840e",
   "metadata": {
    "tags": []
   },
   "outputs": [
    {
     "data": {
      "text/plain": [
       "{5, 6}"
      ]
     },
     "execution_count": 96,
     "metadata": {},
     "output_type": "execute_result"
    }
   ],
   "source": [
    "set3 = {5,6,7,1,2,9}\n",
    "set2.intersection(set3)"
   ]
  },
  {
   "cell_type": "code",
   "execution_count": 97,
   "id": "f2e8a416-29ca-4a1a-aa46-e8099cfb779b",
   "metadata": {
    "tags": []
   },
   "outputs": [
    {
     "data": {
      "text/plain": [
       "{3, 4, 10, 11}"
      ]
     },
     "execution_count": 97,
     "metadata": {},
     "output_type": "execute_result"
    }
   ],
   "source": [
    "set2.difference(set3)"
   ]
  },
  {
   "cell_type": "markdown",
   "id": "56548a26-a1ea-4be9-8966-203cfe733a22",
   "metadata": {},
   "source": [
    "### Dictionary"
   ]
  },
  {
   "cell_type": "code",
   "execution_count": 98,
   "id": "c5740c20-bed2-4c22-91ab-a9ddf6a51593",
   "metadata": {
    "tags": []
   },
   "outputs": [
    {
     "name": "stdout",
     "output_type": "stream",
     "text": [
      "{1: 'hello', 2: 'there', 3: 'Elfo'}\n"
     ]
    }
   ],
   "source": [
    "dict1 = dict({1:'hello', 2:'there', 3: 'Elfo'})\n",
    "print(dict1)"
   ]
  },
  {
   "cell_type": "code",
   "execution_count": 99,
   "id": "ed19157c-f5e6-47ca-9b6f-7c5259d0bf61",
   "metadata": {
    "tags": []
   },
   "outputs": [
    {
     "data": {
      "text/plain": [
       "dict"
      ]
     },
     "execution_count": 99,
     "metadata": {},
     "output_type": "execute_result"
    }
   ],
   "source": [
    "type(dict1)"
   ]
  },
  {
   "cell_type": "code",
   "execution_count": 100,
   "id": "851d4ba4-b9cc-4fd8-8f9d-76eba5888e9e",
   "metadata": {
    "tags": []
   },
   "outputs": [
    {
     "data": {
      "text/plain": [
       "'hello'"
      ]
     },
     "execution_count": 100,
     "metadata": {},
     "output_type": "execute_result"
    }
   ],
   "source": [
    "dict1[1]"
   ]
  },
  {
   "cell_type": "code",
   "execution_count": 105,
   "id": "bca1bd71-1b36-408e-9238-8b897bfe5e6c",
   "metadata": {
    "tags": []
   },
   "outputs": [
    {
     "name": "stdout",
     "output_type": "stream",
     "text": [
      "Elfo\n"
     ]
    }
   ],
   "source": [
    "#accessing an element using get()\n",
    "print(dict1.get(3))"
   ]
  },
  {
   "cell_type": "code",
   "execution_count": 106,
   "id": "fb8e40e0-dece-41fa-8587-7cf20738997f",
   "metadata": {
    "tags": []
   },
   "outputs": [],
   "source": [
    "dict2 = {'Dict1': {1: 'Geeks'},\n",
    "        'Dict2': {'Name': 'For'}}"
   ]
  },
  {
   "cell_type": "code",
   "execution_count": 107,
   "id": "83ccaa4f-c83c-4406-addf-ace6f234b71a",
   "metadata": {
    "tags": []
   },
   "outputs": [
    {
     "data": {
      "text/plain": [
       "'Geeks'"
      ]
     },
     "execution_count": 107,
     "metadata": {},
     "output_type": "execute_result"
    }
   ],
   "source": [
    "dict2['Dict1'][1]"
   ]
  },
  {
   "cell_type": "code",
   "execution_count": 109,
   "id": "ed18eb92-471e-4204-97a4-0fb0b8d016e7",
   "metadata": {
    "tags": []
   },
   "outputs": [
    {
     "name": "stdout",
     "output_type": "stream",
     "text": [
      "dict_values([{1: 'Geeks'}, {'Name': 'For'}])\n"
     ]
    }
   ],
   "source": [
    "print(dict2.values())"
   ]
  },
  {
   "cell_type": "code",
   "execution_count": 110,
   "id": "d8e2c756-edf9-429d-a24d-3bec21ab3ef4",
   "metadata": {
    "tags": []
   },
   "outputs": [
    {
     "data": {
      "text/plain": [
       "dict_keys([1, 2, 3])"
      ]
     },
     "execution_count": 110,
     "metadata": {},
     "output_type": "execute_result"
    }
   ],
   "source": [
    "dict1.keys()"
   ]
  },
  {
   "cell_type": "code",
   "execution_count": 111,
   "id": "91166489-77fe-4f60-b97a-14cb38e17f97",
   "metadata": {
    "tags": []
   },
   "outputs": [
    {
     "data": {
      "text/plain": [
       "dict_items([(1, 'hello'), (2, 'there'), (3, 'Elfo')])"
      ]
     },
     "execution_count": 111,
     "metadata": {},
     "output_type": "execute_result"
    }
   ],
   "source": [
    "dict1.items()"
   ]
  },
  {
   "cell_type": "code",
   "execution_count": 112,
   "id": "1ddb4f10-f7f2-4593-a388-a37370bffd54",
   "metadata": {
    "tags": []
   },
   "outputs": [
    {
     "data": {
      "text/plain": [
       "{1: 'hello', 3: 'Elfo'}"
      ]
     },
     "execution_count": 112,
     "metadata": {},
     "output_type": "execute_result"
    }
   ],
   "source": [
    "dict1.pop(2)\n",
    "dict1"
   ]
  },
  {
   "cell_type": "code",
   "execution_count": null,
   "id": "0dd052ab-1cc3-4b6e-abe0-ba91d5d20405",
   "metadata": {
    "tags": []
   },
   "outputs": [],
   "source": []
  },
  {
   "cell_type": "code",
   "execution_count": null,
   "id": "c2c9996d-9f28-4af1-b135-2c263de9f92d",
   "metadata": {},
   "outputs": [],
   "source": []
  }
 ],
 "metadata": {
  "kernelspec": {
   "display_name": "Python 3 (ipykernel)",
   "language": "python",
   "name": "python3"
  },
  "language_info": {
   "codemirror_mode": {
    "name": "ipython",
    "version": 3
   },
   "file_extension": ".py",
   "mimetype": "text/x-python",
   "name": "python",
   "nbconvert_exporter": "python",
   "pygments_lexer": "ipython3",
   "version": "3.8.2"
  }
 },
 "nbformat": 4,
 "nbformat_minor": 5
}
