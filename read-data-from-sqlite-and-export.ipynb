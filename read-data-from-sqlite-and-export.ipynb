{
 "cells": [
  {
   "cell_type": "markdown",
   "metadata": {},
   "source": [
    "# Read Data from SQLite and Create Excel & PDF"
   ]
  },
  {
   "cell_type": "code",
   "execution_count": 1,
   "metadata": {},
   "outputs": [],
   "source": [
    "import sqlite3\n",
    "import sys\n",
    "import xlsxwriter\n",
    "import fpdf\n",
    "from fpdf import FPDF"
   ]
  },
  {
   "cell_type": "code",
   "execution_count": 2,
   "metadata": {},
   "outputs": [],
   "source": [
    "class Data_import_export:\n",
    "    def __init__(self):\n",
    "        pass\n",
    "    \n",
    "    #get the table from sqlite\n",
    "    def get_table_from_sqlite(self, db_name):\n",
    "        connect_sqlite = sqlite3.connect(db_name)\n",
    "        cursor_sqlite = connect_sqlite.cursor()\n",
    "        SELECT= \"SELECT name FROM sqlite_master WHERE type='table'\"\n",
    "        \n",
    "        #read tables \n",
    "        cursor_sqlite.execute(SELECT)\n",
    "        results=cursor_sqlite.fetchall()\n",
    "        data=[]\n",
    "        \n",
    "        #displaying all table names in the database\n",
    "        for row in results:\n",
    "            data.append(row[0])\n",
    "        if data:\n",
    "            return data\n",
    "        else:\n",
    "            return \"Database does not exist or there is no table in database\"\n",
    "    \n",
    "    #get fields/columns from the table\n",
    "    def get_fields_from_sqlite(self, db_name, table_name):\n",
    "        connect_sqlite=sqlite3.connect(db_name)\n",
    "        cursor_sqlite=connect_sqlite.cursor()\n",
    "        select_column='SELECT DISTINCT * FROM '+ table_name + ';'\n",
    "        \n",
    "        table=cursor_sqlite.execute(select_column)\n",
    "        list_columns=list(map(lambda x: x[0], table.description))\n",
    "        \n",
    "        return list_columns\n",
    "    \n",
    "    #after we get the table and columns, we need to fillin the data to the table \n",
    "    def get_data_from_sqlite(self, db_name, table_name,fields):\n",
    "        connect_sqlite=sqlite3.connect(db_name)\n",
    "        cursor_sqlite=connect_sqlite.cursor()\n",
    "        select_data='SELECT DISTINCT '+ fields+ ' from ' + table_name +';'\n",
    "        cursor_sqlite.execute(select_data)\n",
    "        result=cursor_sqlite.fetchall()\n",
    "        return result\n",
    "    \n",
    "    \n",
    "    def export_table_to_excel(self, table_name, fields, data):\n",
    "        workbook=xlsxwriter.Workbook(table_name +'.xlsx')\n",
    "        worksheet = workbook.add_worksheet()\n",
    "        \n",
    "        #writing the colnames, starting from the first row\n",
    "        row=0\n",
    "        col=0\n",
    "        for value in fields:\n",
    "            worksheet.write(row, col, value)\n",
    "            col+=1\n",
    "        \n",
    "        #writing the data row by row, starting from the second row (row=1)\n",
    "        row=1\n",
    "        col=0\n",
    "        \n",
    "        for row1 in data:\n",
    "            col=0\n",
    "            for index in range(len(row1)):\n",
    "                worksheet.write(row, col, row1[index])\n",
    "                col+=1\n",
    "            row+=1\n",
    "        \n",
    "        workbook.close()\n",
    "        return 'done'\n",
    "    \n",
    "    def export_table_to_pdf(self, table_name, fields, data):\n",
    "        print(fields)\n",
    "        print(data)\n",
    "        pdf=FPDF()\n",
    "        array=list()\n",
    "        for i in range(len(fields)):\n",
    "            array.append(30)\n",
    "        \n",
    "        width_cell=tuple(array)\n",
    "        \n",
    "        #add a page\n",
    "        pdf.add_page()\n",
    "        pdf.set_font('Arial', 'B', 20)\n",
    "        pdf.cell(200,10, \"Employee Information\", 0,1,'C')\n",
    "        \n",
    "        pdf.set_font('Arial', size=12)\n",
    "        pdf.cell(80,10,table_name,0,1,'C')\n",
    "        \n",
    "        for i in range(len(fields)):\n",
    "            if i ==len(fields)-1:\n",
    "                pdf.cell(width_cell[i], 10, fields[i], 1, 1, \"C\", \"true\")\n",
    "            else:\n",
    "                pdf.cell(width_cell[i], 10, fields[i], 1, 0, \"C\", \"true\")\n",
    "        \n",
    "        print(data)\n",
    "        \n",
    "        for row in data:\n",
    "            print(row)\n",
    "            for i in range(len(row)):\n",
    "                if i==len(row)-1:\n",
    "                    pdf.cell(width_cell[i], 10, str(row[i]),1,1,\"C\", \"true\")\n",
    "                else:\n",
    "                    pdf.cell(width_cell[i], 10, str(row[i]),1,0,\"C\", \"true\")\n",
    "                    \n",
    "        pdf.set_y(-50)\n",
    "        pdf.set_font('Arial', \"I\", 8)\n",
    "        pdf.cell(200,10,\"Page # \" + str(pdf.page_no()), 0, 1, 'C')\n",
    "        pdf.output(table_name+\".pdf\")\n",
    "        return 'done'\n",
    "    \n",
    "    def export_data_to_txt(self, table_name, fields, data):\n",
    "        file=open(table_name+'.txt', \"w\")\n",
    "        file.writelines(fields)\n",
    "        file.writelines(data)\n",
    "        file.close()"
   ]
  },
  {
   "cell_type": "code",
   "execution_count": 3,
   "metadata": {},
   "outputs": [],
   "source": [
    "#testing the methods\n",
    "connection=sqlite3.connect(\"company.db\")\n",
    "cursor=connection.cursor()"
   ]
  },
  {
   "cell_type": "code",
   "execution_count": 4,
   "metadata": {},
   "outputs": [],
   "source": [
    "sql_command = \"\"\"\n",
    "CREATE TABLE employee ( \n",
    "staff_number INTEGER PRIMARY KEY, \n",
    "fname VARCHAR(20), \n",
    "lname VARCHAR(30), \n",
    "gender CHAR(1), \n",
    "joining DATE,\n",
    "birth_date DATE);\"\"\"\n",
    "\n",
    "#cursor.execute(sql_command)\n",
    "\n",
    "sql_command = \"\"\"INSERT INTO employee (staff_number, fname, lname, gender, birth_date)\n",
    "    VALUES (NULL, \"William\", \"Shakespeare\", \"m\", \"1961-10-25\");\"\"\"\n",
    "#cursor.execute(sql_command)\n",
    "\n",
    "sql_command = \"\"\"INSERT INTO employee (staff_number, fname, lname, gender, birth_date)\n",
    "    VALUES (NULL, \"Frank\", \"Schiller\", \"m\", \"1955-08-17\");\"\"\"\n",
    "#cursor.execute(sql_command)\n",
    "\n",
    "connection.commit()"
   ]
  },
  {
   "cell_type": "code",
   "execution_count": 5,
   "metadata": {},
   "outputs": [],
   "source": [
    "staff_data = [ (\"William\", \"Shakespeare\", \"m\", \"1961-10-25\"),\n",
    "               (\"Frank\", \"Schiller\", \"m\", \"1955-08-17\"),\n",
    "               (\"Jane\", \"Wall\", \"f\", \"1989-03-14\") ]\n",
    "               \n",
    "for p in staff_data:\n",
    "    format_str = \"\"\"INSERT INTO employee (staff_number, fname, lname, gender, birth_date)\n",
    "    VALUES (NULL, \"{first}\", \"{last}\", \"{gender}\", \"{birthdate}\");\"\"\"\n",
    "\n",
    "    sql_command = format_str.format(first=p[0], last=p[1], gender=p[2], birthdate = p[3])\n",
    "    #cursor.execute(sql_command)\n",
    "\n",
    "connection.commit()"
   ]
  },
  {
   "cell_type": "code",
   "execution_count": 6,
   "metadata": {},
   "outputs": [
    {
     "name": "stdout",
     "output_type": "stream",
     "text": [
      "fetchall:\n",
      "(1, 'William', 'Shakespeare', 'm', None, '1961-10-25')\n",
      "(2, 'Frank', 'Schiller', 'm', None, '1955-08-17')\n",
      "(3, 'William', 'Shakespeare', 'm', None, '1961-10-25')\n",
      "(4, 'Frank', 'Schiller', 'm', None, '1955-08-17')\n",
      "(5, 'Jane', 'Wall', 'f', None, '1989-03-14')\n",
      "(6, 'William', 'Shakespeare', 'm', None, '1961-10-25')\n",
      "(7, 'Frank', 'Schiller', 'm', None, '1955-08-17')\n",
      "(8, 'Jane', 'Wall', 'f', None, '1989-03-14')\n",
      "(9, 'William', 'Shakespeare', 'm', None, '1961-10-25')\n",
      "(10, 'Frank', 'Schiller', 'm', None, '1955-08-17')\n",
      "(11, 'William', 'Shakespeare', 'm', None, '1961-10-25')\n",
      "(12, 'Frank', 'Schiller', 'm', None, '1955-08-17')\n",
      "(13, 'Jane', 'Wall', 'f', None, '1989-03-14')\n",
      "(14, 'William', 'Shakespeare', 'm', None, '1961-10-25')\n",
      "(15, 'Frank', 'Schiller', 'm', None, '1955-08-17')\n",
      "(16, 'Jane', 'Wall', 'f', None, '1989-03-14')\n"
     ]
    }
   ],
   "source": [
    "cursor.execute(\"SELECT * FROM employee\") \n",
    "print(\"fetchall:\")\n",
    "result = cursor.fetchall() \n",
    "for r in result:\n",
    "    print(r)"
   ]
  },
  {
   "cell_type": "code",
   "execution_count": 7,
   "metadata": {},
   "outputs": [
    {
     "data": {
      "text/plain": [
       "['employee']"
      ]
     },
     "execution_count": 7,
     "metadata": {},
     "output_type": "execute_result"
    }
   ],
   "source": [
    "import_n_export = Data_import_export()\n",
    "import_n_export.get_table_from_sqlite('company.db')"
   ]
  },
  {
   "cell_type": "code",
   "execution_count": 8,
   "metadata": {},
   "outputs": [
    {
     "data": {
      "text/plain": [
       "['staff_number', 'fname', 'lname', 'gender', 'joining', 'birth_date']"
      ]
     },
     "execution_count": 8,
     "metadata": {},
     "output_type": "execute_result"
    }
   ],
   "source": [
    "import_n_export.get_fields_from_sqlite('company.db', 'employee')"
   ]
  },
  {
   "cell_type": "code",
   "execution_count": 9,
   "metadata": {},
   "outputs": [
    {
     "data": {
      "text/plain": [
       "[(1, 'William', 'Shakespeare', 'm', None, '1961-10-25'),\n",
       " (2, 'Frank', 'Schiller', 'm', None, '1955-08-17'),\n",
       " (3, 'William', 'Shakespeare', 'm', None, '1961-10-25'),\n",
       " (4, 'Frank', 'Schiller', 'm', None, '1955-08-17'),\n",
       " (5, 'Jane', 'Wall', 'f', None, '1989-03-14'),\n",
       " (6, 'William', 'Shakespeare', 'm', None, '1961-10-25'),\n",
       " (7, 'Frank', 'Schiller', 'm', None, '1955-08-17'),\n",
       " (8, 'Jane', 'Wall', 'f', None, '1989-03-14'),\n",
       " (9, 'William', 'Shakespeare', 'm', None, '1961-10-25'),\n",
       " (10, 'Frank', 'Schiller', 'm', None, '1955-08-17'),\n",
       " (11, 'William', 'Shakespeare', 'm', None, '1961-10-25'),\n",
       " (12, 'Frank', 'Schiller', 'm', None, '1955-08-17'),\n",
       " (13, 'Jane', 'Wall', 'f', None, '1989-03-14'),\n",
       " (14, 'William', 'Shakespeare', 'm', None, '1961-10-25'),\n",
       " (15, 'Frank', 'Schiller', 'm', None, '1955-08-17'),\n",
       " (16, 'Jane', 'Wall', 'f', None, '1989-03-14')]"
      ]
     },
     "execution_count": 9,
     "metadata": {},
     "output_type": "execute_result"
    }
   ],
   "source": [
    "fields=import_n_export.get_fields_from_sqlite('company.db', 'employee')\n",
    "import_n_export.get_data_from_sqlite('company.db', 'employee', \"*\")"
   ]
  },
  {
   "cell_type": "code",
   "execution_count": 10,
   "metadata": {},
   "outputs": [
    {
     "data": {
      "text/plain": [
       "'done'"
      ]
     },
     "execution_count": 10,
     "metadata": {},
     "output_type": "execute_result"
    }
   ],
   "source": [
    "table_name = import_n_export.get_table_from_sqlite('company.db')\n",
    "fields = import_n_export.get_fields_from_sqlite('company.db', 'employee')\n",
    "data = import_n_export.get_data_from_sqlite('company.db', 'employee', \"*\")\n",
    "import_n_export.export_table_to_excel('employee', fields, data)"
   ]
  },
  {
   "cell_type": "code",
   "execution_count": 11,
   "metadata": {},
   "outputs": [
    {
     "name": "stdout",
     "output_type": "stream",
     "text": [
      "['staff_number', 'fname', 'lname', 'gender', 'joining', 'birth_date']\n",
      "[(1, 'William', 'Shakespeare', 'm', None, '1961-10-25'), (2, 'Frank', 'Schiller', 'm', None, '1955-08-17'), (3, 'William', 'Shakespeare', 'm', None, '1961-10-25'), (4, 'Frank', 'Schiller', 'm', None, '1955-08-17'), (5, 'Jane', 'Wall', 'f', None, '1989-03-14'), (6, 'William', 'Shakespeare', 'm', None, '1961-10-25'), (7, 'Frank', 'Schiller', 'm', None, '1955-08-17'), (8, 'Jane', 'Wall', 'f', None, '1989-03-14'), (9, 'William', 'Shakespeare', 'm', None, '1961-10-25'), (10, 'Frank', 'Schiller', 'm', None, '1955-08-17'), (11, 'William', 'Shakespeare', 'm', None, '1961-10-25'), (12, 'Frank', 'Schiller', 'm', None, '1955-08-17'), (13, 'Jane', 'Wall', 'f', None, '1989-03-14'), (14, 'William', 'Shakespeare', 'm', None, '1961-10-25'), (15, 'Frank', 'Schiller', 'm', None, '1955-08-17'), (16, 'Jane', 'Wall', 'f', None, '1989-03-14')]\n",
      "[(1, 'William', 'Shakespeare', 'm', None, '1961-10-25'), (2, 'Frank', 'Schiller', 'm', None, '1955-08-17'), (3, 'William', 'Shakespeare', 'm', None, '1961-10-25'), (4, 'Frank', 'Schiller', 'm', None, '1955-08-17'), (5, 'Jane', 'Wall', 'f', None, '1989-03-14'), (6, 'William', 'Shakespeare', 'm', None, '1961-10-25'), (7, 'Frank', 'Schiller', 'm', None, '1955-08-17'), (8, 'Jane', 'Wall', 'f', None, '1989-03-14'), (9, 'William', 'Shakespeare', 'm', None, '1961-10-25'), (10, 'Frank', 'Schiller', 'm', None, '1955-08-17'), (11, 'William', 'Shakespeare', 'm', None, '1961-10-25'), (12, 'Frank', 'Schiller', 'm', None, '1955-08-17'), (13, 'Jane', 'Wall', 'f', None, '1989-03-14'), (14, 'William', 'Shakespeare', 'm', None, '1961-10-25'), (15, 'Frank', 'Schiller', 'm', None, '1955-08-17'), (16, 'Jane', 'Wall', 'f', None, '1989-03-14')]\n",
      "(1, 'William', 'Shakespeare', 'm', None, '1961-10-25')\n",
      "(2, 'Frank', 'Schiller', 'm', None, '1955-08-17')\n",
      "(3, 'William', 'Shakespeare', 'm', None, '1961-10-25')\n",
      "(4, 'Frank', 'Schiller', 'm', None, '1955-08-17')\n",
      "(5, 'Jane', 'Wall', 'f', None, '1989-03-14')\n",
      "(6, 'William', 'Shakespeare', 'm', None, '1961-10-25')\n",
      "(7, 'Frank', 'Schiller', 'm', None, '1955-08-17')\n",
      "(8, 'Jane', 'Wall', 'f', None, '1989-03-14')\n",
      "(9, 'William', 'Shakespeare', 'm', None, '1961-10-25')\n",
      "(10, 'Frank', 'Schiller', 'm', None, '1955-08-17')\n",
      "(11, 'William', 'Shakespeare', 'm', None, '1961-10-25')\n",
      "(12, 'Frank', 'Schiller', 'm', None, '1955-08-17')\n",
      "(13, 'Jane', 'Wall', 'f', None, '1989-03-14')\n",
      "(14, 'William', 'Shakespeare', 'm', None, '1961-10-25')\n",
      "(15, 'Frank', 'Schiller', 'm', None, '1955-08-17')\n",
      "(16, 'Jane', 'Wall', 'f', None, '1989-03-14')\n"
     ]
    },
    {
     "data": {
      "text/plain": [
       "'done'"
      ]
     },
     "execution_count": 11,
     "metadata": {},
     "output_type": "execute_result"
    }
   ],
   "source": [
    "#export data to PDF\n",
    "import_n_export.export_table_to_pdf('employee', fields, data)"
   ]
  },
  {
   "cell_type": "code",
   "execution_count": 12,
   "metadata": {},
   "outputs": [
    {
     "ename": "TypeError",
     "evalue": "write() argument must be str, not tuple",
     "output_type": "error",
     "traceback": [
      "\u001b[0;31m---------------------------------------------------------------------------\u001b[0m",
      "\u001b[0;31mTypeError\u001b[0m                                 Traceback (most recent call last)",
      "\u001b[0;32m<ipython-input-12-24b923389e54>\u001b[0m in \u001b[0;36m<module>\u001b[0;34m\u001b[0m\n\u001b[0;32m----> 1\u001b[0;31m \u001b[0mimport_n_export\u001b[0m\u001b[0;34m.\u001b[0m\u001b[0mexport_data_to_txt\u001b[0m\u001b[0;34m(\u001b[0m\u001b[0;34m'employee'\u001b[0m\u001b[0;34m,\u001b[0m \u001b[0mfields\u001b[0m\u001b[0;34m,\u001b[0m \u001b[0mdata\u001b[0m\u001b[0;34m)\u001b[0m\u001b[0;34m\u001b[0m\u001b[0;34m\u001b[0m\u001b[0m\n\u001b[0m",
      "\u001b[0;32m<ipython-input-2-0bf5c582eba5>\u001b[0m in \u001b[0;36mexport_data_to_txt\u001b[0;34m(self, table_name, fields, data)\u001b[0m\n\u001b[1;32m    111\u001b[0m         \u001b[0mfile\u001b[0m\u001b[0;34m=\u001b[0m\u001b[0mopen\u001b[0m\u001b[0;34m(\u001b[0m\u001b[0mtable_name\u001b[0m\u001b[0;34m+\u001b[0m\u001b[0;34m'.txt'\u001b[0m\u001b[0;34m,\u001b[0m \u001b[0;34m\"w\"\u001b[0m\u001b[0;34m)\u001b[0m\u001b[0;34m\u001b[0m\u001b[0;34m\u001b[0m\u001b[0m\n\u001b[1;32m    112\u001b[0m         \u001b[0mfile\u001b[0m\u001b[0;34m.\u001b[0m\u001b[0mwritelines\u001b[0m\u001b[0;34m(\u001b[0m\u001b[0mfields\u001b[0m\u001b[0;34m)\u001b[0m\u001b[0;34m\u001b[0m\u001b[0;34m\u001b[0m\u001b[0m\n\u001b[0;32m--> 113\u001b[0;31m         \u001b[0mfile\u001b[0m\u001b[0;34m.\u001b[0m\u001b[0mwritelines\u001b[0m\u001b[0;34m(\u001b[0m\u001b[0mdata\u001b[0m\u001b[0;34m)\u001b[0m\u001b[0;34m\u001b[0m\u001b[0;34m\u001b[0m\u001b[0m\n\u001b[0m\u001b[1;32m    114\u001b[0m         \u001b[0mfile\u001b[0m\u001b[0;34m.\u001b[0m\u001b[0mclose\u001b[0m\u001b[0;34m(\u001b[0m\u001b[0;34m)\u001b[0m\u001b[0;34m\u001b[0m\u001b[0;34m\u001b[0m\u001b[0m\n",
      "\u001b[0;31mTypeError\u001b[0m: write() argument must be str, not tuple"
     ]
    }
   ],
   "source": [
    "import_n_export.export_data_to_txt('employee', fields, data)"
   ]
  },
  {
   "cell_type": "code",
   "execution_count": null,
   "metadata": {},
   "outputs": [],
   "source": []
  }
 ],
 "metadata": {
  "kernelspec": {
   "display_name": "Python 3",
   "language": "python",
   "name": "python3"
  },
  "language_info": {
   "codemirror_mode": {
    "name": "ipython",
    "version": 3
   },
   "file_extension": ".py",
   "mimetype": "text/x-python",
   "name": "python",
   "nbconvert_exporter": "python",
   "pygments_lexer": "ipython3",
   "version": "3.8.3"
  }
 },
 "nbformat": 4,
 "nbformat_minor": 4
}
